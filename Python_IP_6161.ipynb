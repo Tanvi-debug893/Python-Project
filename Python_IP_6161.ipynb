{
  "nbformat": 4,
  "nbformat_minor": 0,
  "metadata": {
    "colab": {
      "provenance": [],
      "authorship_tag": "ABX9TyPW69hZFpsKZhUmiu8WAtPv",
      "include_colab_link": true
    },
    "kernelspec": {
      "name": "python3",
      "display_name": "Python 3"
    },
    "language_info": {
      "name": "python"
    }
  },
  "cells": [
    {
      "cell_type": "markdown",
      "metadata": {
        "id": "view-in-github",
        "colab_type": "text"
      },
      "source": [
        "<a href=\"https://colab.research.google.com/github/Tanvi-debug893/Python-Project/blob/main/Python_IP_6161.ipynb\" target=\"_parent\"><img src=\"https://colab.research.google.com/assets/colab-badge.svg\" alt=\"Open In Colab\"/></a>"
      ]
    },
    {
      "cell_type": "code",
      "source": [
        "import pandas as pd\n",
        "url = 'https://raw.githubusercontent.com/Tanvi-debug893/Python-Project/main/Python_Updated_Data.csv'\n",
        "df = pd.read_csv(url)"
      ],
      "metadata": {
        "id": "mQSr1ixhm_bL"
      },
      "execution_count": 46,
      "outputs": []
    },
    {
      "cell_type": "code",
      "source": [
        "print(df.shape )\n",
        "df.head()"
      ],
      "metadata": {
        "colab": {
          "base_uri": "https://localhost:8080/",
          "height": 642
        },
        "collapsed": true,
        "id": "C31UfmcNURQg",
        "outputId": "693a00d3-7c0b-43f3-d6d4-ce325e0cbb5d"
      },
      "execution_count": 47,
      "outputs": [
        {
          "output_type": "stream",
          "name": "stdout",
          "text": [
            "(4894, 16)\n"
          ]
        },
        {
          "output_type": "execute_result",
          "data": {
            "text/plain": [
              "  First Name           Email ID  Quantity                  Events  \\\n",
              "0     ANIKET     aniket@xyz.com         1  Art of Resume Building   \n",
              "1  Dhanshree  dhanshree@xyz.com         1  Art of Resume Building   \n",
              "2     Dhiraj     dhiraj@xyz.com         1  Art of Resume Building   \n",
              "3      Pooja      pooja@xyz.com         1  Art of Resume Building   \n",
              "4     Aayush     aayush@xyz.com         1  Art of Resume Building   \n",
              "\n",
              "  Attendee Status                                       College Name  \\\n",
              "0       Attending  D Y PATIL INSTITUTE OF MCA AND MANAGEMENT AKUR...   \n",
              "1       Attending                   AP SHAH INSTITUTE OF TECHNOLOGY    \n",
              "2       Attending       Don Bosco College of Engineering Fatorda Goa   \n",
              "3       Attending           Pillai College of Engineering New Panvel   \n",
              "4       Attending                               St Xavier's College    \n",
              "\n",
              "        How did you come to know about this event?  \\\n",
              "0                                            Email   \n",
              "1                                           Others   \n",
              "2                                            Email   \n",
              "3                                            Email   \n",
              "4  Instagram | LinkedIn | Cloud Counselage Website   \n",
              "\n",
              "  Specify in \"Others\" (how did you come to know about this event) Designation  \\\n",
              "0                                                NaN                 Students   \n",
              "1                                            College                 Students   \n",
              "2                                                NaN                 Students   \n",
              "3                                                NaN                 Students   \n",
              "4                                                NaN                 Students   \n",
              "\n",
              "   Year of Graduation       City  CGPA  Experience with python (Months)  \\\n",
              "0                2024      Patna   6.7                                7   \n",
              "1                2024   Amravati   8.2                                3   \n",
              "2                2023    Kunrool   6.5                                4   \n",
              "3                2025   Tirupati   8.7                                7   \n",
              "4                2024  Vijaywada   9.1                                3   \n",
              "\n",
              "  Family Income  Expected salary (Lac) Leadership- skills  \n",
              "0       7 Lakh+                      6                yes  \n",
              "1      0-2 Lakh                      7                 no  \n",
              "2      5-7 Lakh                      7                 no  \n",
              "3      2-5 Lakh                      8                 no  \n",
              "4      0-2 Lakh                     10                yes  "
            ],
            "text/html": [
              "\n",
              "  <div id=\"df-dd2e674d-5e28-4750-b7b9-1b3877a40adb\" class=\"colab-df-container\">\n",
              "    <div>\n",
              "<style scoped>\n",
              "    .dataframe tbody tr th:only-of-type {\n",
              "        vertical-align: middle;\n",
              "    }\n",
              "\n",
              "    .dataframe tbody tr th {\n",
              "        vertical-align: top;\n",
              "    }\n",
              "\n",
              "    .dataframe thead th {\n",
              "        text-align: right;\n",
              "    }\n",
              "</style>\n",
              "<table border=\"1\" class=\"dataframe\">\n",
              "  <thead>\n",
              "    <tr style=\"text-align: right;\">\n",
              "      <th></th>\n",
              "      <th>First Name</th>\n",
              "      <th>Email ID</th>\n",
              "      <th>Quantity</th>\n",
              "      <th>Events</th>\n",
              "      <th>Attendee Status</th>\n",
              "      <th>College Name</th>\n",
              "      <th>How did you come to know about this event?</th>\n",
              "      <th>Specify in \"Others\" (how did you come to know about this event)</th>\n",
              "      <th>Designation</th>\n",
              "      <th>Year of Graduation</th>\n",
              "      <th>City</th>\n",
              "      <th>CGPA</th>\n",
              "      <th>Experience with python (Months)</th>\n",
              "      <th>Family Income</th>\n",
              "      <th>Expected salary (Lac)</th>\n",
              "      <th>Leadership- skills</th>\n",
              "    </tr>\n",
              "  </thead>\n",
              "  <tbody>\n",
              "    <tr>\n",
              "      <th>0</th>\n",
              "      <td>ANIKET</td>\n",
              "      <td>aniket@xyz.com</td>\n",
              "      <td>1</td>\n",
              "      <td>Art of Resume Building</td>\n",
              "      <td>Attending</td>\n",
              "      <td>D Y PATIL INSTITUTE OF MCA AND MANAGEMENT AKUR...</td>\n",
              "      <td>Email</td>\n",
              "      <td>NaN</td>\n",
              "      <td>Students</td>\n",
              "      <td>2024</td>\n",
              "      <td>Patna</td>\n",
              "      <td>6.7</td>\n",
              "      <td>7</td>\n",
              "      <td>7 Lakh+</td>\n",
              "      <td>6</td>\n",
              "      <td>yes</td>\n",
              "    </tr>\n",
              "    <tr>\n",
              "      <th>1</th>\n",
              "      <td>Dhanshree</td>\n",
              "      <td>dhanshree@xyz.com</td>\n",
              "      <td>1</td>\n",
              "      <td>Art of Resume Building</td>\n",
              "      <td>Attending</td>\n",
              "      <td>AP SHAH INSTITUTE OF TECHNOLOGY</td>\n",
              "      <td>Others</td>\n",
              "      <td>College</td>\n",
              "      <td>Students</td>\n",
              "      <td>2024</td>\n",
              "      <td>Amravati</td>\n",
              "      <td>8.2</td>\n",
              "      <td>3</td>\n",
              "      <td>0-2 Lakh</td>\n",
              "      <td>7</td>\n",
              "      <td>no</td>\n",
              "    </tr>\n",
              "    <tr>\n",
              "      <th>2</th>\n",
              "      <td>Dhiraj</td>\n",
              "      <td>dhiraj@xyz.com</td>\n",
              "      <td>1</td>\n",
              "      <td>Art of Resume Building</td>\n",
              "      <td>Attending</td>\n",
              "      <td>Don Bosco College of Engineering Fatorda Goa</td>\n",
              "      <td>Email</td>\n",
              "      <td>NaN</td>\n",
              "      <td>Students</td>\n",
              "      <td>2023</td>\n",
              "      <td>Kunrool</td>\n",
              "      <td>6.5</td>\n",
              "      <td>4</td>\n",
              "      <td>5-7 Lakh</td>\n",
              "      <td>7</td>\n",
              "      <td>no</td>\n",
              "    </tr>\n",
              "    <tr>\n",
              "      <th>3</th>\n",
              "      <td>Pooja</td>\n",
              "      <td>pooja@xyz.com</td>\n",
              "      <td>1</td>\n",
              "      <td>Art of Resume Building</td>\n",
              "      <td>Attending</td>\n",
              "      <td>Pillai College of Engineering New Panvel</td>\n",
              "      <td>Email</td>\n",
              "      <td>NaN</td>\n",
              "      <td>Students</td>\n",
              "      <td>2025</td>\n",
              "      <td>Tirupati</td>\n",
              "      <td>8.7</td>\n",
              "      <td>7</td>\n",
              "      <td>2-5 Lakh</td>\n",
              "      <td>8</td>\n",
              "      <td>no</td>\n",
              "    </tr>\n",
              "    <tr>\n",
              "      <th>4</th>\n",
              "      <td>Aayush</td>\n",
              "      <td>aayush@xyz.com</td>\n",
              "      <td>1</td>\n",
              "      <td>Art of Resume Building</td>\n",
              "      <td>Attending</td>\n",
              "      <td>St Xavier's College</td>\n",
              "      <td>Instagram | LinkedIn | Cloud Counselage Website</td>\n",
              "      <td>NaN</td>\n",
              "      <td>Students</td>\n",
              "      <td>2024</td>\n",
              "      <td>Vijaywada</td>\n",
              "      <td>9.1</td>\n",
              "      <td>3</td>\n",
              "      <td>0-2 Lakh</td>\n",
              "      <td>10</td>\n",
              "      <td>yes</td>\n",
              "    </tr>\n",
              "  </tbody>\n",
              "</table>\n",
              "</div>\n",
              "    <div class=\"colab-df-buttons\">\n",
              "\n",
              "  <div class=\"colab-df-container\">\n",
              "    <button class=\"colab-df-convert\" onclick=\"convertToInteractive('df-dd2e674d-5e28-4750-b7b9-1b3877a40adb')\"\n",
              "            title=\"Convert this dataframe to an interactive table.\"\n",
              "            style=\"display:none;\">\n",
              "\n",
              "  <svg xmlns=\"http://www.w3.org/2000/svg\" height=\"24px\" viewBox=\"0 -960 960 960\">\n",
              "    <path d=\"M120-120v-720h720v720H120Zm60-500h600v-160H180v160Zm220 220h160v-160H400v160Zm0 220h160v-160H400v160ZM180-400h160v-160H180v160Zm440 0h160v-160H620v160ZM180-180h160v-160H180v160Zm440 0h160v-160H620v160Z\"/>\n",
              "  </svg>\n",
              "    </button>\n",
              "\n",
              "  <style>\n",
              "    .colab-df-container {\n",
              "      display:flex;\n",
              "      gap: 12px;\n",
              "    }\n",
              "\n",
              "    .colab-df-convert {\n",
              "      background-color: #E8F0FE;\n",
              "      border: none;\n",
              "      border-radius: 50%;\n",
              "      cursor: pointer;\n",
              "      display: none;\n",
              "      fill: #1967D2;\n",
              "      height: 32px;\n",
              "      padding: 0 0 0 0;\n",
              "      width: 32px;\n",
              "    }\n",
              "\n",
              "    .colab-df-convert:hover {\n",
              "      background-color: #E2EBFA;\n",
              "      box-shadow: 0px 1px 2px rgba(60, 64, 67, 0.3), 0px 1px 3px 1px rgba(60, 64, 67, 0.15);\n",
              "      fill: #174EA6;\n",
              "    }\n",
              "\n",
              "    .colab-df-buttons div {\n",
              "      margin-bottom: 4px;\n",
              "    }\n",
              "\n",
              "    [theme=dark] .colab-df-convert {\n",
              "      background-color: #3B4455;\n",
              "      fill: #D2E3FC;\n",
              "    }\n",
              "\n",
              "    [theme=dark] .colab-df-convert:hover {\n",
              "      background-color: #434B5C;\n",
              "      box-shadow: 0px 1px 3px 1px rgba(0, 0, 0, 0.15);\n",
              "      filter: drop-shadow(0px 1px 2px rgba(0, 0, 0, 0.3));\n",
              "      fill: #FFFFFF;\n",
              "    }\n",
              "  </style>\n",
              "\n",
              "    <script>\n",
              "      const buttonEl =\n",
              "        document.querySelector('#df-dd2e674d-5e28-4750-b7b9-1b3877a40adb button.colab-df-convert');\n",
              "      buttonEl.style.display =\n",
              "        google.colab.kernel.accessAllowed ? 'block' : 'none';\n",
              "\n",
              "      async function convertToInteractive(key) {\n",
              "        const element = document.querySelector('#df-dd2e674d-5e28-4750-b7b9-1b3877a40adb');\n",
              "        const dataTable =\n",
              "          await google.colab.kernel.invokeFunction('convertToInteractive',\n",
              "                                                    [key], {});\n",
              "        if (!dataTable) return;\n",
              "\n",
              "        const docLinkHtml = 'Like what you see? Visit the ' +\n",
              "          '<a target=\"_blank\" href=https://colab.research.google.com/notebooks/data_table.ipynb>data table notebook</a>'\n",
              "          + ' to learn more about interactive tables.';\n",
              "        element.innerHTML = '';\n",
              "        dataTable['output_type'] = 'display_data';\n",
              "        await google.colab.output.renderOutput(dataTable, element);\n",
              "        const docLink = document.createElement('div');\n",
              "        docLink.innerHTML = docLinkHtml;\n",
              "        element.appendChild(docLink);\n",
              "      }\n",
              "    </script>\n",
              "  </div>\n",
              "\n",
              "\n",
              "    <div id=\"df-887ffe36-c464-4317-b1f1-a647eb32ea3c\">\n",
              "      <button class=\"colab-df-quickchart\" onclick=\"quickchart('df-887ffe36-c464-4317-b1f1-a647eb32ea3c')\"\n",
              "                title=\"Suggest charts\"\n",
              "                style=\"display:none;\">\n",
              "\n",
              "<svg xmlns=\"http://www.w3.org/2000/svg\" height=\"24px\"viewBox=\"0 0 24 24\"\n",
              "     width=\"24px\">\n",
              "    <g>\n",
              "        <path d=\"M19 3H5c-1.1 0-2 .9-2 2v14c0 1.1.9 2 2 2h14c1.1 0 2-.9 2-2V5c0-1.1-.9-2-2-2zM9 17H7v-7h2v7zm4 0h-2V7h2v10zm4 0h-2v-4h2v4z\"/>\n",
              "    </g>\n",
              "</svg>\n",
              "      </button>\n",
              "\n",
              "<style>\n",
              "  .colab-df-quickchart {\n",
              "      --bg-color: #E8F0FE;\n",
              "      --fill-color: #1967D2;\n",
              "      --hover-bg-color: #E2EBFA;\n",
              "      --hover-fill-color: #174EA6;\n",
              "      --disabled-fill-color: #AAA;\n",
              "      --disabled-bg-color: #DDD;\n",
              "  }\n",
              "\n",
              "  [theme=dark] .colab-df-quickchart {\n",
              "      --bg-color: #3B4455;\n",
              "      --fill-color: #D2E3FC;\n",
              "      --hover-bg-color: #434B5C;\n",
              "      --hover-fill-color: #FFFFFF;\n",
              "      --disabled-bg-color: #3B4455;\n",
              "      --disabled-fill-color: #666;\n",
              "  }\n",
              "\n",
              "  .colab-df-quickchart {\n",
              "    background-color: var(--bg-color);\n",
              "    border: none;\n",
              "    border-radius: 50%;\n",
              "    cursor: pointer;\n",
              "    display: none;\n",
              "    fill: var(--fill-color);\n",
              "    height: 32px;\n",
              "    padding: 0;\n",
              "    width: 32px;\n",
              "  }\n",
              "\n",
              "  .colab-df-quickchart:hover {\n",
              "    background-color: var(--hover-bg-color);\n",
              "    box-shadow: 0 1px 2px rgba(60, 64, 67, 0.3), 0 1px 3px 1px rgba(60, 64, 67, 0.15);\n",
              "    fill: var(--button-hover-fill-color);\n",
              "  }\n",
              "\n",
              "  .colab-df-quickchart-complete:disabled,\n",
              "  .colab-df-quickchart-complete:disabled:hover {\n",
              "    background-color: var(--disabled-bg-color);\n",
              "    fill: var(--disabled-fill-color);\n",
              "    box-shadow: none;\n",
              "  }\n",
              "\n",
              "  .colab-df-spinner {\n",
              "    border: 2px solid var(--fill-color);\n",
              "    border-color: transparent;\n",
              "    border-bottom-color: var(--fill-color);\n",
              "    animation:\n",
              "      spin 1s steps(1) infinite;\n",
              "  }\n",
              "\n",
              "  @keyframes spin {\n",
              "    0% {\n",
              "      border-color: transparent;\n",
              "      border-bottom-color: var(--fill-color);\n",
              "      border-left-color: var(--fill-color);\n",
              "    }\n",
              "    20% {\n",
              "      border-color: transparent;\n",
              "      border-left-color: var(--fill-color);\n",
              "      border-top-color: var(--fill-color);\n",
              "    }\n",
              "    30% {\n",
              "      border-color: transparent;\n",
              "      border-left-color: var(--fill-color);\n",
              "      border-top-color: var(--fill-color);\n",
              "      border-right-color: var(--fill-color);\n",
              "    }\n",
              "    40% {\n",
              "      border-color: transparent;\n",
              "      border-right-color: var(--fill-color);\n",
              "      border-top-color: var(--fill-color);\n",
              "    }\n",
              "    60% {\n",
              "      border-color: transparent;\n",
              "      border-right-color: var(--fill-color);\n",
              "    }\n",
              "    80% {\n",
              "      border-color: transparent;\n",
              "      border-right-color: var(--fill-color);\n",
              "      border-bottom-color: var(--fill-color);\n",
              "    }\n",
              "    90% {\n",
              "      border-color: transparent;\n",
              "      border-bottom-color: var(--fill-color);\n",
              "    }\n",
              "  }\n",
              "</style>\n",
              "\n",
              "      <script>\n",
              "        async function quickchart(key) {\n",
              "          const quickchartButtonEl =\n",
              "            document.querySelector('#' + key + ' button');\n",
              "          quickchartButtonEl.disabled = true;  // To prevent multiple clicks.\n",
              "          quickchartButtonEl.classList.add('colab-df-spinner');\n",
              "          try {\n",
              "            const charts = await google.colab.kernel.invokeFunction(\n",
              "                'suggestCharts', [key], {});\n",
              "          } catch (error) {\n",
              "            console.error('Error during call to suggestCharts:', error);\n",
              "          }\n",
              "          quickchartButtonEl.classList.remove('colab-df-spinner');\n",
              "          quickchartButtonEl.classList.add('colab-df-quickchart-complete');\n",
              "        }\n",
              "        (() => {\n",
              "          let quickchartButtonEl =\n",
              "            document.querySelector('#df-887ffe36-c464-4317-b1f1-a647eb32ea3c button');\n",
              "          quickchartButtonEl.style.display =\n",
              "            google.colab.kernel.accessAllowed ? 'block' : 'none';\n",
              "        })();\n",
              "      </script>\n",
              "    </div>\n",
              "\n",
              "    </div>\n",
              "  </div>\n"
            ],
            "application/vnd.google.colaboratory.intrinsic+json": {
              "type": "dataframe",
              "variable_name": "df",
              "summary": "{\n  \"name\": \"df\",\n  \"rows\": 4894,\n  \"fields\": [\n    {\n      \"column\": \"First Name\",\n      \"properties\": {\n        \"dtype\": \"category\",\n        \"num_unique_values\": 2324,\n        \"samples\": [\n          \"Ruqaiya\",\n          \"Terri\",\n          \"Suzanne\"\n        ],\n        \"semantic_type\": \"\",\n        \"description\": \"\"\n      }\n    },\n    {\n      \"column\": \"Email ID\",\n      \"properties\": {\n        \"dtype\": \"category\",\n        \"num_unique_values\": 2157,\n        \"samples\": [\n          \"mildred@xyz.com\",\n          \"ar.priyanka@xyz.com\",\n          \"boya@xyz.com\"\n        ],\n        \"semantic_type\": \"\",\n        \"description\": \"\"\n      }\n    },\n    {\n      \"column\": \"Quantity\",\n      \"properties\": {\n        \"dtype\": \"number\",\n        \"std\": 0,\n        \"min\": 1,\n        \"max\": 1,\n        \"num_unique_values\": 1,\n        \"samples\": [\n          1\n        ],\n        \"semantic_type\": \"\",\n        \"description\": \"\"\n      }\n    },\n    {\n      \"column\": \"Events\",\n      \"properties\": {\n        \"dtype\": \"category\",\n        \"num_unique_values\": 16,\n        \"samples\": [\n          \"Art of Resume Building\"\n        ],\n        \"semantic_type\": \"\",\n        \"description\": \"\"\n      }\n    },\n    {\n      \"column\": \"Attendee Status\",\n      \"properties\": {\n        \"dtype\": \"category\",\n        \"num_unique_values\": 2,\n        \"samples\": [\n          \"NAN\"\n        ],\n        \"semantic_type\": \"\",\n        \"description\": \"\"\n      }\n    },\n    {\n      \"column\": \"College Name\",\n      \"properties\": {\n        \"dtype\": \"category\",\n        \"num_unique_values\": 55,\n        \"samples\": [\n          \"s.i.e.s. graduate school of technology, nerul, navi mumbai\"\n        ],\n        \"semantic_type\": \"\",\n        \"description\": \"\"\n      }\n    },\n    {\n      \"column\": \"How did you come to know about this event?\",\n      \"properties\": {\n        \"dtype\": \"category\",\n        \"num_unique_values\": 99,\n        \"samples\": [\n          \"Youtube | Instagram | Whatsapp | Telegram | Twitter\"\n        ],\n        \"semantic_type\": \"\",\n        \"description\": \"\"\n      }\n    },\n    {\n      \"column\": \"Specify in \\\"Others\\\" (how did you come to know about this event)\",\n      \"properties\": {\n        \"dtype\": \"category\",\n        \"num_unique_values\": 11,\n        \"samples\": [\n          \"Team entity\"\n        ],\n        \"semantic_type\": \"\",\n        \"description\": \"\"\n      }\n    },\n    {\n      \"column\": \"Designation\",\n      \"properties\": {\n        \"dtype\": \"category\",\n        \"num_unique_values\": 49,\n        \"samples\": [\n          \"Intern\"\n        ],\n        \"semantic_type\": \"\",\n        \"description\": \"\"\n      }\n    },\n    {\n      \"column\": \"Year of Graduation\",\n      \"properties\": {\n        \"dtype\": \"number\",\n        \"std\": 1,\n        \"min\": 2023,\n        \"max\": 2026,\n        \"num_unique_values\": 4,\n        \"samples\": [\n          2023\n        ],\n        \"semantic_type\": \"\",\n        \"description\": \"\"\n      }\n    },\n    {\n      \"column\": \"City\",\n      \"properties\": {\n        \"dtype\": \"category\",\n        \"num_unique_values\": 177,\n        \"samples\": [\n          \"Muzaffarpur\"\n        ],\n        \"semantic_type\": \"\",\n        \"description\": \"\"\n      }\n    },\n    {\n      \"column\": \"CGPA\",\n      \"properties\": {\n        \"dtype\": \"number\",\n        \"std\": 1.005184295914235,\n        \"min\": 6.2,\n        \"max\": 9.9,\n        \"num_unique_values\": 37,\n        \"samples\": [\n          6.2\n        ],\n        \"semantic_type\": \"\",\n        \"description\": \"\"\n      }\n    },\n    {\n      \"column\": \"Experience with python (Months)\",\n      \"properties\": {\n        \"dtype\": \"number\",\n        \"std\": 1,\n        \"min\": 3,\n        \"max\": 8,\n        \"num_unique_values\": 6,\n        \"samples\": [\n          7\n        ],\n        \"semantic_type\": \"\",\n        \"description\": \"\"\n      }\n    },\n    {\n      \"column\": \"Family Income\",\n      \"properties\": {\n        \"dtype\": \"category\",\n        \"num_unique_values\": 4,\n        \"samples\": [\n          \"0-2 Lakh\"\n        ],\n        \"semantic_type\": \"\",\n        \"description\": \"\"\n      }\n    },\n    {\n      \"column\": \"Expected salary (Lac)\",\n      \"properties\": {\n        \"dtype\": \"number\",\n        \"std\": 6,\n        \"min\": 5,\n        \"max\": 35,\n        \"num_unique_values\": 30,\n        \"samples\": [\n          34\n        ],\n        \"semantic_type\": \"\",\n        \"description\": \"\"\n      }\n    },\n    {\n      \"column\": \"Leadership- skills\",\n      \"properties\": {\n        \"dtype\": \"category\",\n        \"num_unique_values\": 3,\n        \"samples\": [\n          \"yes\"\n        ],\n        \"semantic_type\": \"\",\n        \"description\": \"\"\n      }\n    }\n  ]\n}"
            }
          },
          "metadata": {},
          "execution_count": 47
        }
      ]
    },
    {
      "cell_type": "code",
      "source": [
        "df['Email ID'] = df['Email ID'].str.strip().str.lower()\n",
        "#This removes unwanted spaces and makes all emails lowercase."
      ],
      "metadata": {
        "id": "bXQT5gVAVFTt"
      },
      "execution_count": null,
      "outputs": []
    },
    {
      "cell_type": "code",
      "source": [
        "df_unique = df.drop_duplicates(subset='Email ID')\n",
        "# This creates a new DataFrame without duplicate email IDs, but does not change the original DataFrame.\n",
        "\n",
        "df_unique.shape  # Returns (rows, columns) as a tuple"
      ],
      "metadata": {
        "colab": {
          "base_uri": "https://localhost:8080/"
        },
        "id": "e0XBBjHxXzts",
        "outputId": "64d54b89-c643-4f6b-c813-c76346bc60f7"
      },
      "execution_count": 5,
      "outputs": [
        {
          "output_type": "execute_result",
          "data": {
            "text/plain": [
              "(2157, 16)"
            ]
          },
          "metadata": {},
          "execution_count": 5
        }
      ]
    },
    {
      "cell_type": "code",
      "source": [
        "#Not necessaray, but can download if needed.\n",
        "df_unique.to_csv('cleaned_student_data.csv', index=False)\n",
        "files.download('cleaned_student_data.csv')\n",
        "print(\"Downloaded.\")"
      ],
      "metadata": {
        "colab": {
          "base_uri": "https://localhost:8080/",
          "height": 34
        },
        "id": "ZOwqvY3uYnUY",
        "outputId": "e0c07490-2bb7-486d-a9e4-586a162c29e8"
      },
      "execution_count": null,
      "outputs": [
        {
          "output_type": "display_data",
          "data": {
            "text/plain": [
              "<IPython.core.display.Javascript object>"
            ],
            "application/javascript": [
              "\n",
              "    async function download(id, filename, size) {\n",
              "      if (!google.colab.kernel.accessAllowed) {\n",
              "        return;\n",
              "      }\n",
              "      const div = document.createElement('div');\n",
              "      const label = document.createElement('label');\n",
              "      label.textContent = `Downloading \"${filename}\": `;\n",
              "      div.appendChild(label);\n",
              "      const progress = document.createElement('progress');\n",
              "      progress.max = size;\n",
              "      div.appendChild(progress);\n",
              "      document.body.appendChild(div);\n",
              "\n",
              "      const buffers = [];\n",
              "      let downloaded = 0;\n",
              "\n",
              "      const channel = await google.colab.kernel.comms.open(id);\n",
              "      // Send a message to notify the kernel that we're ready.\n",
              "      channel.send({})\n",
              "\n",
              "      for await (const message of channel.messages) {\n",
              "        // Send a message to notify the kernel that we're ready.\n",
              "        channel.send({})\n",
              "        if (message.buffers) {\n",
              "          for (const buffer of message.buffers) {\n",
              "            buffers.push(buffer);\n",
              "            downloaded += buffer.byteLength;\n",
              "            progress.value = downloaded;\n",
              "          }\n",
              "        }\n",
              "      }\n",
              "      const blob = new Blob(buffers, {type: 'application/binary'});\n",
              "      const a = document.createElement('a');\n",
              "      a.href = window.URL.createObjectURL(blob);\n",
              "      a.download = filename;\n",
              "      div.appendChild(a);\n",
              "      a.click();\n",
              "      div.remove();\n",
              "    }\n",
              "  "
            ]
          },
          "metadata": {}
        },
        {
          "output_type": "display_data",
          "data": {
            "text/plain": [
              "<IPython.core.display.Javascript object>"
            ],
            "application/javascript": [
              "download(\"download_a6fd241a-e33b-4307-9b10-96df5ebb2a73\", \"cleaned_student_data.csv\", 349639)"
            ]
          },
          "metadata": {}
        },
        {
          "output_type": "stream",
          "name": "stdout",
          "text": [
            "Downloaded.\n"
          ]
        }
      ]
    },
    {
      "cell_type": "markdown",
      "source": [
        "#**Basic Questions**"
      ],
      "metadata": {
        "id": "d19oNcgLFCFr"
      }
    },
    {
      "cell_type": "markdown",
      "source": [
        "## Q1) How many unique students are present in the dataset?"
      ],
      "metadata": {
        "id": "CPY8wwuUsTHz"
      }
    },
    {
      "cell_type": "code",
      "source": [
        "print(\"Number of unique students:\", df_unique.shape[0])"
      ],
      "metadata": {
        "colab": {
          "base_uri": "https://localhost:8080/"
        },
        "id": "hF3nIjzjaUpX",
        "outputId": "1215df94-f4c1-421a-ba9e-c9be06f196a9"
      },
      "execution_count": null,
      "outputs": [
        {
          "output_type": "stream",
          "name": "stdout",
          "text": [
            "Number of unique students: 2157\n"
          ]
        }
      ]
    },
    {
      "cell_type": "code",
      "source": [],
      "metadata": {
        "id": "u-_HZ9Bydh8D"
      },
      "execution_count": null,
      "outputs": []
    },
    {
      "cell_type": "markdown",
      "source": [
        "##Q2) What is the average GPA of the students?"
      ],
      "metadata": {
        "id": "JBvfyKFxtb5J"
      }
    },
    {
      "cell_type": "code",
      "source": [
        "#df_unique = df_unique.copy()\n",
        "df_unique['CGPA'] = pd.to_numeric(df_unique['CGPA'], errors='coerce')\n",
        "\n",
        "# This converts the 'CGPA' column to numeric type, and errors='coerce' replaces\n",
        "# any non-numeric or invalid values with NaN to ensure the column can be used in\n",
        "# mathematical operations."
      ],
      "metadata": {
        "id": "ELmf5faNbJlK"
      },
      "execution_count": null,
      "outputs": []
    },
    {
      "cell_type": "code",
      "source": [
        "average_cgpa = df_unique['CGPA'].mean()\n",
        "print(\"Average CGPA of students:\", round(average_cgpa, 2))"
      ],
      "metadata": {
        "colab": {
          "base_uri": "https://localhost:8080/"
        },
        "id": "U2naDrbCd_h9",
        "outputId": "57881b02-587d-4022-dde8-718ca0e0e6e4"
      },
      "execution_count": null,
      "outputs": [
        {
          "output_type": "stream",
          "name": "stdout",
          "text": [
            "Average CGPA of students: 8.03\n"
          ]
        }
      ]
    },
    {
      "cell_type": "markdown",
      "source": [
        "##Q3) What is the distribution of students across different graduation years?"
      ],
      "metadata": {
        "id": "kPUhw5OCtrTv"
      }
    },
    {
      "cell_type": "code",
      "source": [
        "# Count the number of students in each graduation year\n",
        "grad_year_count_df = df_unique['Year of Graduation'].value_counts().sort_index().reset_index()\n",
        "grad_year_count_df.columns = ['Year of Graduation', 'Number of Students']\n",
        "print(grad_year_count_df)"
      ],
      "metadata": {
        "id": "a044FTbGeRod",
        "colab": {
          "base_uri": "https://localhost:8080/"
        },
        "outputId": "39ac6ee6-bfcb-4739-afa2-7523e85b104f"
      },
      "execution_count": null,
      "outputs": [
        {
          "output_type": "stream",
          "name": "stdout",
          "text": [
            "   Year of Graduation  Number of Students\n",
            "0                2023                 676\n",
            "1                2024                 679\n",
            "2                2025                 565\n",
            "3                2026                 237\n"
          ]
        }
      ]
    },
    {
      "cell_type": "code",
      "source": [
        "import matplotlib.pyplot as plt\n",
        "\n",
        "# Count as Series (for plotting)\n",
        "grad_year_counts = df_unique['Year of Graduation'].value_counts().sort_index()\n",
        "\n",
        "# Plotting\n",
        "plt.figure(figsize=(6,4))\n",
        "ax = grad_year_counts.plot(kind='bar', color='skyblue', edgecolor='black')\n",
        "# Add count labels using the existing Series\n",
        "for i, value in enumerate(grad_year_counts.values):\n",
        "    ax.text(i, value, str(value), ha='center')\n",
        "\n",
        "plt.title('Distribution of Students by Graduation Year')\n",
        "plt.xlabel('Graduation Year')\n",
        "plt.ylabel('Number of Students')\n",
        "plt.xticks(rotation=0)\n",
        "plt.grid(axis='y', linestyle='--', alpha=0.7)\n",
        "plt.tight_layout()\n",
        "plt.show()"
      ],
      "metadata": {
        "colab": {
          "base_uri": "https://localhost:8080/",
          "height": 407
        },
        "id": "Suak1Rnmv9U0",
        "outputId": "234b21e4-9c51-4920-9090-e8afcac7ed0d"
      },
      "execution_count": null,
      "outputs": [
        {
          "output_type": "display_data",
          "data": {
            "text/plain": [
              "<Figure size 600x400 with 1 Axes>"
            ],
            "image/png": "[encoded data removed]"
          },
          "metadata": {}
        }
      ]
    },
    {
      "cell_type": "code",
      "source": [],
      "metadata": {
        "id": "y7oxXyZcwPfd"
      },
      "execution_count": null,
      "outputs": []
    },
    {
      "cell_type": "markdown",
      "source": [
        "##Q4) What is the distribution of students' experience with Python programming?"
      ],
      "metadata": {
        "id": "Mfbv1o_qtzuc"
      }
    },
    {
      "cell_type": "code",
      "source": [
        "python_exp = df_unique['Experience with python (Months)']"
      ],
      "metadata": {
        "id": "YMIUSoNk3LsV"
      },
      "execution_count": null,
      "outputs": []
    },
    {
      "cell_type": "code",
      "source": [
        "exp_counts = python_exp.value_counts().sort_index()\n",
        "\n",
        "plt.figure(figsize=(6,4))\n",
        "ax = exp_counts.plot(kind='bar', color='lightgreen', edgecolor='black')\n",
        "plt.title('Distribution of Python Experience (Months)')\n",
        "plt.xlabel('Experience (Months)')\n",
        "plt.ylabel('Number of Students')\n",
        "plt.xticks(rotation=0)\n",
        "plt.grid(axis='y', linestyle='--', alpha=0.7)\n",
        "\n",
        "# Add value labels on top of bars\n",
        "for i, val in enumerate(exp_counts):\n",
        "    ax.text(i, val, str(val), ha='center', va='bottom')\n",
        "\n",
        "plt.tight_layout()\n",
        "plt.show()\n",
        "\n",
        "# Calculate the average experience\n",
        "avg_exp = python_exp.mean()\n",
        "print(f'Average Python Experience: {avg_exp:.1f} months')"
      ],
      "metadata": {
        "colab": {
          "base_uri": "https://localhost:8080/",
          "height": 424
        },
        "id": "QcHvFJu53ErI",
        "outputId": "c8c6f427-01c8-4b35-a6b9-e22c0625a121"
      },
      "execution_count": null,
      "outputs": [
        {
          "output_type": "display_data",
          "data": {
            "text/plain": [
              "<Figure size 600x400 with 1 Axes>"
            ],
            "image/png": "[encoded data removed]"
          },
          "metadata": {}
        },
        {
          "output_type": "stream",
          "name": "stdout",
          "text": [
            "Average Python Experience: 5.2 months\n"
          ]
        }
      ]
    },
    {
      "cell_type": "code",
      "source": [],
      "metadata": {
        "id": "dOwb1iIT3UtS"
      },
      "execution_count": null,
      "outputs": []
    },
    {
      "cell_type": "markdown",
      "source": [
        "##Q5) What is the average family income of the students?"
      ],
      "metadata": {
        "id": "Gpe-ClmvuEL5"
      }
    },
    {
      "cell_type": "code",
      "source": [
        "print(df_unique['Family Income'].value_counts().sort_index())"
      ],
      "metadata": {
        "colab": {
          "base_uri": "https://localhost:8080/"
        },
        "id": "9WmGoEpAAlbK",
        "outputId": "754e89f4-3c6a-4b02-f955-dbcd691194b5"
      },
      "execution_count": null,
      "outputs": [
        {
          "output_type": "stream",
          "name": "stdout",
          "text": [
            "Family Income\n",
            "0-2 Lakh    2000\n",
            "2-5 Lakh      85\n",
            "5-7 Lakh      31\n",
            "7 Lakh+       41\n",
            "Name: count, dtype: int64\n"
          ]
        }
      ]
    },
    {
      "cell_type": "code",
      "source": [
        "most_common_range = df_unique['Family Income'].mode()[0]\n",
        "print(f\"Most Common Income Range: {most_common_range}\")"
      ],
      "metadata": {
        "colab": {
          "base_uri": "https://localhost:8080/"
        },
        "id": "xjwsrSbZ3ln1",
        "outputId": "e795b2b9-4564-4428-afc3-06baf1874e5b"
      },
      "execution_count": null,
      "outputs": [
        {
          "output_type": "stream",
          "name": "stdout",
          "text": [
            "Most Common Income Range: 0-2 Lakh\n"
          ]
        }
      ]
    },
    {
      "cell_type": "code",
      "source": [
        "# Define mapping for income ranges to approximate rupee values\n",
        "income_mapping = {\n",
        "    '0-2 Lakh': 100000,\n",
        "    '2-5 Lakh': 350000,\n",
        "    '5-7 Lakh': 600000,\n",
        "    '7 Lakh+': 800000\n",
        "}\n",
        "\n",
        "# Map to numeric values\n",
        "df_unique['Family Income (Numeric)'] = df_unique['Family Income'].map(income_mapping)\n",
        "\n",
        "# Calculate average\n",
        "average_income = df_unique['Family Income (Numeric)'].mean()\n",
        "print(f\"Average Family Income (Estimated): ₹{average_income:.2f}\")\n",
        "\n",
        "print(\"(Range: 0-2 lakh)\")\n",
        "print('\\n')"
      ],
      "metadata": {
        "colab": {
          "base_uri": "https://localhost:8080/"
        },
        "id": "l9bdxBnn_heH",
        "outputId": "e5109297-91f0-453c-87e2-a70ed5bbccea"
      },
      "execution_count": 25,
      "outputs": [
        {
          "output_type": "stream",
          "name": "stdout",
          "text": [
            "Average Family Income (Estimated): ₹130343.07\n",
            "(Range: 0-2 lakh)\n",
            "\n",
            "\n"
          ]
        },
        {
          "output_type": "stream",
          "name": "stderr",
          "text": [
            "<ipython-input-25-2019754926>:10: SettingWithCopyWarning: \n",
            "A value is trying to be set on a copy of a slice from a DataFrame.\n",
            "Try using .loc[row_indexer,col_indexer] = value instead\n",
            "\n",
            "See the caveats in the documentation: https://pandas.pydata.org/pandas-docs/stable/user_guide/indexing.html#returning-a-view-versus-a-copy\n",
            "  df_unique['Family Income (Numeric)'] = df_unique['Family Income'].map(income_mapping)\n"
          ]
        }
      ]
    },
    {
      "cell_type": "code",
      "source": [],
      "metadata": {
        "id": "FMRu_9YPA_O9"
      },
      "execution_count": null,
      "outputs": []
    },
    {
      "cell_type": "markdown",
      "source": [
        "##Q6) How does the GPA vary among different colleges? (Show top 5 results only)"
      ],
      "metadata": {
        "id": "L3TUwOIquUcy"
      }
    },
    {
      "cell_type": "code",
      "source": [
        "# Top 5 colleges by average CGPA\n",
        "top5_df = (\n",
        "    df_unique.assign(CGPA=pd.to_numeric(df_unique['CGPA'], errors='coerce'))\n",
        "    .groupby('College Name')['CGPA']\n",
        "    .mean()\n",
        "    .sort_values(ascending=False)\n",
        "    .head(5)\n",
        "    .reset_index(name='Average CGPA')\n",
        "    .rename(columns={'College Name': 'College'})\n",
        ")\n",
        "\n",
        "print(top5_df)"
      ],
      "metadata": {
        "colab": {
          "base_uri": "https://localhost:8080/"
        },
        "id": "f3-j2Na5CkGy",
        "outputId": "fe94e599-db2f-4bbe-8b29-3abcbe059183"
      },
      "execution_count": 26,
      "outputs": [
        {
          "output_type": "stream",
          "name": "stdout",
          "text": [
            "                                             College  Average CGPA\n",
            "0                               St Xavier's College       8.795000\n",
            "1  New horizon institute of Technology and Manage...      8.611765\n",
            "2  B. K. Birla College of Arts, Science & Commerc...      8.566667\n",
            "3                   AP SHAH INSTITUTE OF TECHNOLOGY       8.360000\n",
            "4  THAKUR INSTITUTE OF MANAGEMENT STUDIES, CAREER...      8.325000\n"
          ]
        }
      ]
    },
    {
      "cell_type": "code",
      "source": [
        "# Shorten college names and compute CGPA stats\n",
        "top5_stats = (\n",
        "    df_unique.groupby('College Name')['CGPA']\n",
        "    .agg(['mean', 'median', 'std', 'min', 'max'])\n",
        "    .rename(columns={'mean': 'Mean', 'median': 'Median', 'std': 'StdDev', 'min': 'Minimum', 'max': 'Maximum'})\n",
        "    .pipe(lambda df: df.set_index(df.index.map(lambda name: name if len(name) <= 15 else name[:15] + \"...\")))\n",
        "    .sort_values(by='Mean', ascending=False)\n",
        "    .head(5)\n",
        ")\n",
        "\n",
        "print(top5_stats.to_string())"
      ],
      "metadata": {
        "colab": {
          "base_uri": "https://localhost:8080/"
        },
        "id": "wS3L2apLCqbq",
        "outputId": "be95cb13-f97e-43a6-8f91-4156f34e570c"
      },
      "execution_count": 29,
      "outputs": [
        {
          "output_type": "stream",
          "name": "stdout",
          "text": [
            "                        Mean  Median    StdDev  Minimum  Maximum\n",
            "College Name                                                    \n",
            "St Xavier's Col...  8.795000    9.10  0.810117      7.3      9.9\n",
            "New horizon ins...  8.611765    8.60  0.779329      6.7      9.6\n",
            "B. K. Birla Col...  8.566667    8.90  1.111797      6.6      9.9\n",
            "AP SHAH INSTITU...  8.360000    8.20  0.646529      7.7      9.3\n",
            "THAKUR INSTITUT...  8.325000    8.25  1.265758      6.5      9.9\n"
          ]
        }
      ]
    },
    {
      "cell_type": "code",
      "source": [],
      "metadata": {
        "id": "ExhCV-AXEN6T"
      },
      "execution_count": null,
      "outputs": []
    },
    {
      "cell_type": "markdown",
      "source": [
        "##Q7) Are there any outliers in the ‘Attending Status’ or ‘Quantity (Number of Courses Completed)’ attributes?"
      ],
      "metadata": {
        "id": "VaVC_qhpub_f"
      }
    },
    {
      "cell_type": "code",
      "source": [
        "# View unique values and counts in Attending Status\n",
        "print(df_unique['Attendee Status'].value_counts(dropna=False))\n",
        "\n",
        "#No categorical outliers are present. But there are 5 missing values."
      ],
      "metadata": {
        "colab": {
          "base_uri": "https://localhost:8080/"
        },
        "id": "nU9fHq3EywiR",
        "outputId": "82d7f165-8f1d-4964-f0ff-8b77b6679fd3"
      },
      "execution_count": 30,
      "outputs": [
        {
          "output_type": "stream",
          "name": "stdout",
          "text": [
            "Attendee Status\n",
            "Attending    2152\n",
            "NAN             5\n",
            "Name: count, dtype: int64\n"
          ]
        }
      ]
    },
    {
      "cell_type": "code",
      "source": [
        "#Quantity (expecting some varied entries)\n",
        "import matplotlib.pyplot as plt\n",
        "\n",
        "# Ensure 'Quantity' is numeric\n",
        "df_unique['Quantity'] = pd.to_numeric(df_unique['Quantity'], errors='coerce')\n",
        "\n",
        "# Boxplot\n",
        "plt.figure(figsize=(4, 2))\n",
        "plt.boxplot(df_unique['Quantity'].dropna(), vert=False)\n",
        "plt.title('Boxplot of Number of Courses Completed')\n",
        "plt.xlabel('Quantity')\n",
        "plt.show()"
      ],
      "metadata": {
        "colab": {
          "base_uri": "https://localhost:8080/",
          "height": 360
        },
        "id": "Ts0rYxld0btm",
        "outputId": "18d53b50-f10a-4532-96a1-83026f0351b2"
      },
      "execution_count": null,
      "outputs": [
        {
          "output_type": "stream",
          "name": "stderr",
          "text": [
            "<ipython-input-10-1c5e64e45eda>:4: SettingWithCopyWarning: \n",
            "A value is trying to be set on a copy of a slice from a DataFrame.\n",
            "Try using .loc[row_indexer,col_indexer] = value instead\n",
            "\n",
            "See the caveats in the documentation: https://pandas.pydata.org/pandas-docs/stable/user_guide/indexing.html#returning-a-view-versus-a-copy\n",
            "  df_unique['Quantity'] = pd.to_numeric(df_unique['Quantity'], errors='coerce')\n"
          ]
        },
        {
          "output_type": "display_data",
          "data": {
            "text/plain": [
              "<Figure size 400x200 with 1 Axes>"
            ],
            "image/png": "[encoded data removed]"
          },
          "metadata": {}
        }
      ]
    },
    {
      "cell_type": "code",
      "source": [
        "#checking if this also has only 1 entry\n",
        "print(\"Number of entries in 'Quantity':\", df_unique['Quantity'].count())\n",
        "print(df_unique['Quantity'].map(lambda x: '1' if x == 1 else 'Others').value_counts())"
      ],
      "metadata": {
        "colab": {
          "base_uri": "https://localhost:8080/"
        },
        "id": "nNGUkDbD1x42",
        "outputId": "2e557d26-a28c-4617-fb9e-605cbb8aeb0c"
      },
      "execution_count": 35,
      "outputs": [
        {
          "output_type": "stream",
          "name": "stdout",
          "text": [
            "Number of entries in 'Quantity': 2157\n",
            "Quantity\n",
            "1    2157\n",
            "Name: count, dtype: int64\n"
          ]
        }
      ]
    },
    {
      "cell_type": "markdown",
      "source": [
        "Upon examining the 'Attendee Status' and 'Quantity' attributes, we found no outliers in either column. 'Attendee Status' is clean apart from 5 missing values, and 'Quantity' values are tightly distributed with no statistical outliers, as confirmed by boxplot."
      ],
      "metadata": {
        "id": "THwKhQkBHkjy"
      }
    },
    {
      "cell_type": "code",
      "source": [],
      "metadata": {
        "id": "kQXHizA43PXS"
      },
      "execution_count": null,
      "outputs": []
    },
    {
      "cell_type": "markdown",
      "source": [
        "##Q8) What is the average GPA of students from each city?"
      ],
      "metadata": {
        "id": "qRE9TPWjuxGx"
      }
    },
    {
      "cell_type": "code",
      "source": [
        "# Compute average CGPA and student count per city\n",
        "city_stats = (\n",
        "    df_unique.assign(CGPA=pd.to_numeric(df_unique['CGPA'], errors='coerce'))\n",
        "    .groupby('City')['CGPA']\n",
        "    .agg(['mean', 'count'])\n",
        "    .rename(columns={'mean': 'Average CGPA', 'count': 'Student Count'})\n",
        ")\n",
        "\n",
        "# Top 5 cities by average CGPA\n",
        "top5 = city_stats.sort_values(by='Average CGPA', ascending=False).reset_index()\n",
        "print(\"\\nTop 5 Cities by Average GPA:\")\n",
        "print(top5.head(5))\n",
        "\n",
        "# Bottom 5 cities by average CGPA\n",
        "bottom5 = city_stats.sort_values(by='Average CGPA').reset_index()\n",
        "print(\"\\nBottom 5 Cities by Average GPA:\")\n",
        "print(bottom5.head(5))"
      ],
      "metadata": {
        "colab": {
          "base_uri": "https://localhost:8080/"
        },
        "id": "xIucr0VW3gty",
        "outputId": "b47308cf-3967-4eea-cdd3-1f18fecd1d86"
      },
      "execution_count": 40,
      "outputs": [
        {
          "output_type": "stream",
          "name": "stdout",
          "text": [
            "\n",
            "Top 5 Cities by Average GPA:\n",
            "      City  Average CGPA  Student Count\n",
            "0    Delhi      9.014286              7\n",
            "1   Raipur      8.980000              5\n",
            "2  Sonipat      8.712500              8\n",
            "3   konark      8.540000              5\n",
            "4   Karnal      8.533333              6\n",
            "\n",
            "Bottom 5 Cities by Average GPA:\n",
            "        City  Average CGPA  Student Count\n",
            "0      Vasai      7.100000              6\n",
            "1      Daman      7.114286              7\n",
            "2  New Delhi      7.142857              7\n",
            "3  Darbhanga      7.300000              4\n",
            "4       Dhar      7.312500              8\n"
          ]
        }
      ]
    },
    {
      "cell_type": "code",
      "source": [
        "# Save the city-wise GPA and student count table to CSV\n",
        "city_stats.to_csv('city_gpa_summary.csv', index=False)\n",
        "\n",
        "print(\"City GPA summary saved as 'city_gpa_summary.csv'\")"
      ],
      "metadata": {
        "colab": {
          "base_uri": "https://localhost:8080/"
        },
        "id": "l6hCoryj3qTa",
        "outputId": "647f9559-b034-40a7-9163-7342bb1fbad2"
      },
      "execution_count": null,
      "outputs": [
        {
          "output_type": "stream",
          "name": "stdout",
          "text": [
            "City GPA summary saved as 'city_gpa_summary.csv'\n"
          ]
        }
      ]
    },
    {
      "cell_type": "code",
      "source": [
        "# download link\n",
        "files.download('city_gpa_summary.csv')\n",
        "print('Downloaded.')"
      ],
      "metadata": {
        "colab": {
          "base_uri": "https://localhost:8080/",
          "height": 34
        },
        "id": "i3hKq5F35wjZ",
        "outputId": "a36f2394-7e8c-4381-cca6-f9b90a90a58c"
      },
      "execution_count": null,
      "outputs": [
        {
          "output_type": "display_data",
          "data": {
            "text/plain": [
              "<IPython.core.display.Javascript object>"
            ],
            "application/javascript": [
              "\n",
              "    async function download(id, filename, size) {\n",
              "      if (!google.colab.kernel.accessAllowed) {\n",
              "        return;\n",
              "      }\n",
              "      const div = document.createElement('div');\n",
              "      const label = document.createElement('label');\n",
              "      label.textContent = `Downloading \"${filename}\": `;\n",
              "      div.appendChild(label);\n",
              "      const progress = document.createElement('progress');\n",
              "      progress.max = size;\n",
              "      div.appendChild(progress);\n",
              "      document.body.appendChild(div);\n",
              "\n",
              "      const buffers = [];\n",
              "      let downloaded = 0;\n",
              "\n",
              "      const channel = await google.colab.kernel.comms.open(id);\n",
              "      // Send a message to notify the kernel that we're ready.\n",
              "      channel.send({})\n",
              "\n",
              "      for await (const message of channel.messages) {\n",
              "        // Send a message to notify the kernel that we're ready.\n",
              "        channel.send({})\n",
              "        if (message.buffers) {\n",
              "          for (const buffer of message.buffers) {\n",
              "            buffers.push(buffer);\n",
              "            downloaded += buffer.byteLength;\n",
              "            progress.value = downloaded;\n",
              "          }\n",
              "        }\n",
              "      }\n",
              "      const blob = new Blob(buffers, {type: 'application/binary'});\n",
              "      const a = document.createElement('a');\n",
              "      a.href = window.URL.createObjectURL(blob);\n",
              "      a.download = filename;\n",
              "      div.appendChild(a);\n",
              "      a.click();\n",
              "      div.remove();\n",
              "    }\n",
              "  "
            ]
          },
          "metadata": {}
        },
        {
          "output_type": "display_data",
          "data": {
            "text/plain": [
              "<IPython.core.display.Javascript object>"
            ],
            "application/javascript": [
              "download(\"download_f7e175f1-38b1-45b4-97b7-8fdd9b2ca40b\", \"city_gpa_summary.csv\", 4327)"
            ]
          },
          "metadata": {}
        },
        {
          "output_type": "stream",
          "name": "stdout",
          "text": [
            "Downloaded.\n"
          ]
        }
      ]
    },
    {
      "cell_type": "code",
      "source": [],
      "metadata": {
        "id": "NHcdgYlN6mRR"
      },
      "execution_count": null,
      "outputs": []
    },
    {
      "cell_type": "code",
      "source": [],
      "metadata": {
        "id": "7BsH7xPr_pKW"
      },
      "execution_count": null,
      "outputs": []
    },
    {
      "cell_type": "markdown",
      "source": [
        "# **Moderate Questions**"
      ],
      "metadata": {
        "id": "RPaFC4FG_n0G"
      }
    },
    {
      "cell_type": "code",
      "source": [],
      "metadata": {
        "id": "GqO8viv7cDxa"
      },
      "execution_count": null,
      "outputs": []
    },
    {
      "cell_type": "markdown",
      "source": [
        "##Q10) How does the expected salary vary based on factors such as GPA, family income, and Python programming experience?"
      ],
      "metadata": {
        "id": "fHUG56_5vgHj"
      }
    },
    {
      "cell_type": "code",
      "source": [
        "# Checking correlation\n",
        "cols = ['Expected salary (Lac)', 'CGPA', 'Family Income (Numeric)', 'Experience with python (Months)']\n",
        "df_unique[cols].corr().style.background_gradient(cmap='coolwarm').format(\"{:.3f}\")"
      ],
      "metadata": {
        "colab": {
          "base_uri": "https://localhost:8080/",
          "height": 174
        },
        "id": "pODPFgoVcDpV",
        "outputId": "0afd20e2-93b6-4f6e-c001-367d7dc53fa2"
      },
      "execution_count": null,
      "outputs": [
        {
          "output_type": "execute_result",
          "data": {
            "text/plain": [
              "<pandas.io.formats.style.Styler at 0x7fef27295990>"
            ],
            "text/html": [
              "<style type=\"text/css\">\n",
              "#T_d79d0_row0_col0, #T_d79d0_row1_col1, #T_d79d0_row2_col2, #T_d79d0_row3_col3 {\n",
              "  background-color: #b40426;\n",
              "  color: #f1f1f1;\n",
              "}\n",
              "#T_d79d0_row0_col1 {\n",
              "  background-color: #7699f6;\n",
              "  color: #f1f1f1;\n",
              "}\n",
              "#T_d79d0_row0_col2 {\n",
              "  background-color: #445acc;\n",
              "  color: #f1f1f1;\n",
              "}\n",
              "#T_d79d0_row0_col3 {\n",
              "  background-color: #5d7ce6;\n",
              "  color: #f1f1f1;\n",
              "}\n",
              "#T_d79d0_row1_col0 {\n",
              "  background-color: #6384eb;\n",
              "  color: #f1f1f1;\n",
              "}\n",
              "#T_d79d0_row1_col2, #T_d79d0_row1_col3, #T_d79d0_row2_col0, #T_d79d0_row3_col1 {\n",
              "  background-color: #3b4cc0;\n",
              "  color: #f1f1f1;\n",
              "}\n",
              "#T_d79d0_row2_col1 {\n",
              "  background-color: #4257c9;\n",
              "  color: #f1f1f1;\n",
              "}\n",
              "#T_d79d0_row2_col3 {\n",
              "  background-color: #465ecf;\n",
              "  color: #f1f1f1;\n",
              "}\n",
              "#T_d79d0_row3_col0 {\n",
              "  background-color: #4b64d5;\n",
              "  color: #f1f1f1;\n",
              "}\n",
              "#T_d79d0_row3_col2 {\n",
              "  background-color: #3f53c6;\n",
              "  color: #f1f1f1;\n",
              "}\n",
              "</style>\n",
              "<table id=\"T_d79d0\" class=\"dataframe\">\n",
              "  <thead>\n",
              "    <tr>\n",
              "      <th class=\"blank level0\" >&nbsp;</th>\n",
              "      <th id=\"T_d79d0_level0_col0\" class=\"col_heading level0 col0\" >Expected salary (Lac)</th>\n",
              "      <th id=\"T_d79d0_level0_col1\" class=\"col_heading level0 col1\" >CGPA</th>\n",
              "      <th id=\"T_d79d0_level0_col2\" class=\"col_heading level0 col2\" >Family Income (Numeric)</th>\n",
              "      <th id=\"T_d79d0_level0_col3\" class=\"col_heading level0 col3\" >Experience with python (Months)</th>\n",
              "    </tr>\n",
              "  </thead>\n",
              "  <tbody>\n",
              "    <tr>\n",
              "      <th id=\"T_d79d0_level0_row0\" class=\"row_heading level0 row0\" >Expected salary (Lac)</th>\n",
              "      <td id=\"T_d79d0_row0_col0\" class=\"data row0 col0\" >1.000</td>\n",
              "      <td id=\"T_d79d0_row0_col1\" class=\"data row0 col1\" >0.178</td>\n",
              "      <td id=\"T_d79d0_row0_col2\" class=\"data row0 col2\" >0.053</td>\n",
              "      <td id=\"T_d79d0_row0_col3\" class=\"data row0 col3\" >0.105</td>\n",
              "    </tr>\n",
              "    <tr>\n",
              "      <th id=\"T_d79d0_level0_row1\" class=\"row_heading level0 row1\" >CGPA</th>\n",
              "      <td id=\"T_d79d0_row1_col0\" class=\"data row1 col0\" >0.178</td>\n",
              "      <td id=\"T_d79d0_row1_col1\" class=\"data row1 col1\" >1.000</td>\n",
              "      <td id=\"T_d79d0_row1_col2\" class=\"data row1 col2\" >0.018</td>\n",
              "      <td id=\"T_d79d0_row1_col3\" class=\"data row1 col3\" >-0.008</td>\n",
              "    </tr>\n",
              "    <tr>\n",
              "      <th id=\"T_d79d0_level0_row2\" class=\"row_heading level0 row2\" >Family Income (Numeric)</th>\n",
              "      <td id=\"T_d79d0_row2_col0\" class=\"data row2 col0\" >0.053</td>\n",
              "      <td id=\"T_d79d0_row2_col1\" class=\"data row2 col1\" >0.018</td>\n",
              "      <td id=\"T_d79d0_row2_col2\" class=\"data row2 col2\" >1.000</td>\n",
              "      <td id=\"T_d79d0_row2_col3\" class=\"data row2 col3\" >0.035</td>\n",
              "    </tr>\n",
              "    <tr>\n",
              "      <th id=\"T_d79d0_level0_row3\" class=\"row_heading level0 row3\" >Experience with python (Months)</th>\n",
              "      <td id=\"T_d79d0_row3_col0\" class=\"data row3 col0\" >0.105</td>\n",
              "      <td id=\"T_d79d0_row3_col1\" class=\"data row3 col1\" >-0.008</td>\n",
              "      <td id=\"T_d79d0_row3_col2\" class=\"data row3 col2\" >0.035</td>\n",
              "      <td id=\"T_d79d0_row3_col3\" class=\"data row3 col3\" >1.000</td>\n",
              "    </tr>\n",
              "  </tbody>\n",
              "</table>\n"
            ]
          },
          "metadata": {},
          "execution_count": 39
        }
      ]
    },
    {
      "cell_type": "markdown",
      "source": [
        "#####🔴 Strong positive correlation = Red\n",
        "#####🔵 Strong negative correlation = Blue\n",
        "#####⚪ Near zero (no correlation) = White\n",
        "##### GPA and Python experience show some weak positive influence on expected salary — meaning students with slightly better GPA or more Python experience tend to expect higher salaries.\n",
        "##### Family income has almost no influence on expected salary expectations — possibly because students don't directly link family wealth to career salary."
      ],
      "metadata": {
        "id": "pHEs3Ej0vu4X"
      }
    },
    {
      "cell_type": "code",
      "source": [],
      "metadata": {
        "id": "FidPs7gTL7Dc"
      },
      "execution_count": null,
      "outputs": []
    },
    {
      "cell_type": "markdown",
      "source": [
        "##Q11) Which event tend to attract more students from specific fields of study?"
      ],
      "metadata": {
        "id": "SjsT23V-wv0B"
      }
    },
    {
      "cell_type": "code",
      "source": [
        "# Count number of students per event\n",
        "event_counts = df_unique['Events'].value_counts()\n",
        "print(event_counts)"
      ],
      "metadata": {
        "colab": {
          "base_uri": "https://localhost:8080/"
        },
        "id": "AejZxnAPL9AF",
        "outputId": "75c29db5-4c71-4c58-d0aa-920d14de51f6"
      },
      "execution_count": null,
      "outputs": [
        {
          "output_type": "stream",
          "name": "stdout",
          "text": [
            "Events\n",
            "Internship Program(IP) Success Conclave        657\n",
            "Art of Resume Building                         336\n",
            "Hello ML and DL                                233\n",
            "Data Visualization using Power BI              225\n",
            "Talk on Skill and Employability Enhancement    194\n",
            "IAC - Q&A                                      146\n",
            "Product Marketing                              112\n",
            "Skill and Employability Enhancement             87\n",
            "The Agile Ways of Working                       73\n",
            "Artificial Intelligence                         62\n",
            "The SDLC & their transformations                32\n",
            "Name: count, dtype: int64\n"
          ]
        }
      ]
    },
    {
      "cell_type": "markdown",
      "source": [
        "##### 'Internship Program(IP) Success Conclave' clearly sttracted the most number of students"
      ],
      "metadata": {
        "id": "yvzyqkJZxFRs"
      }
    },
    {
      "cell_type": "markdown",
      "source": [
        " Events Grouped by Field of Study:\n",
        "\n",
        " #### Career Development & Employability\n",
        "- Internship Program (IP) Success Conclave\n",
        "- Art of Resume Building\n",
        "- Talk on Skill and Employability Enhancement\n",
        "- Skill and Employability Enhancement\n",
        "- IAC - Q&A\n",
        "\n",
        "#### Data Science & Analytics\n",
        "- Hello ML and DL\n",
        "- Data Visualization using Power BI\n",
        "\n",
        "#### Business & Management\n",
        "- Product Marketing\n",
        "- The Agile Ways of Working\n",
        "\n",
        "#### Technology & Software\n",
        "- Artificial Intelligence\n",
        "- The SDLC & their transformations\n"
      ],
      "metadata": {
        "id": "pEIVhAf4yT5b"
      }
    },
    {
      "cell_type": "code",
      "source": [
        "# Mapping of events to fields of study\n",
        "event_to_field = {\n",
        "    \"Internship Program(IP) Success Conclave\": \"Career Development\",\n",
        "    \"Art of Resume Building\": \"Career Development\",\n",
        "    \"Talk on Skill and Employability Enhancement\": \"Career Development\",\n",
        "    \"Skill and Employability Enhancement\": \"Career Development\",\n",
        "    \"IAC - Q&A\": \"Career Development\",\n",
        "\n",
        "    \"Hello ML and DL\": \"Data Science\",\n",
        "    \"Data Visualization using Power BI\": \"Data Science\",\n",
        "\n",
        "    \"Product Marketing\": \"Business & Management\",\n",
        "    \"The Agile Ways of Working\": \"Business & Management\",\n",
        "\n",
        "    \"Artificial Intelligence\": \"Tech & Engineering\",\n",
        "    \"The SDLC & their transformations\": \"Tech & Engineering\"\n",
        "}"
      ],
      "metadata": {
        "id": "A7brJHXCzaYu"
      },
      "execution_count": 10,
      "outputs": []
    },
    {
      "cell_type": "code",
      "source": [
        "# Count students per field based on event mapping\n",
        "field_counts = (\n",
        "    df_unique['Events']\n",
        "    .map(event_to_field)\n",
        "    .value_counts()\n",
        "    .sort_values(ascending=False)\n",
        ")\n",
        "\n",
        "print(field_counts)"
      ],
      "metadata": {
        "colab": {
          "base_uri": "https://localhost:8080/"
        },
        "id": "8PnuG7y20XVO",
        "outputId": "ecc034cb-8f78-4dec-a6ac-bfc097a7fec0"
      },
      "execution_count": 9,
      "outputs": [
        {
          "output_type": "stream",
          "name": "stdout",
          "text": [
            "Events\n",
            "Career Development       1420\n",
            "Data Science              458\n",
            "Business & Management     185\n",
            "Tech & Engineering         94\n",
            "Name: count, dtype: int64\n"
          ]
        }
      ]
    },
    {
      "cell_type": "markdown",
      "source": [
        "#### So clearly 'Career Development' attracts the higest number of students. (It also has the highest number of events conducted.)"
      ],
      "metadata": {
        "id": "EO0rorTjzohw"
      }
    },
    {
      "cell_type": "code",
      "source": [],
      "metadata": {
        "id": "9ROeo_EYN3V3"
      },
      "execution_count": null,
      "outputs": []
    },
    {
      "cell_type": "markdown",
      "source": [
        "##Q12) Do students in leadership roles during college tend to have higher GPAs or higher salary expectations?"
      ],
      "metadata": {
        "id": "rNW37shK0wSi"
      }
    },
    {
      "cell_type": "code",
      "source": [
        "# Strip spaces and convert to lowercase for consistency\n",
        "df_unique['Leadership- skills'] = df_unique['Leadership- skills'].str.strip().str.lower()\n",
        "\n",
        "# Check unique values again\n",
        "print(df_unique['Leadership- skills'].value_counts())\n",
        "print('\\n')"
      ],
      "metadata": {
        "colab": {
          "base_uri": "https://localhost:8080/"
        },
        "id": "PqwTJXoMOkUu",
        "outputId": "6cb0ec79-83b9-45af-ec8b-c61185161da4"
      },
      "execution_count": 41,
      "outputs": [
        {
          "output_type": "stream",
          "name": "stdout",
          "text": [
            "Leadership- skills\n",
            "no     1453\n",
            "yes     704\n",
            "Name: count, dtype: int64\n",
            "\n",
            "\n"
          ]
        },
        {
          "output_type": "stream",
          "name": "stderr",
          "text": [
            "<ipython-input-41-1276316429>:2: SettingWithCopyWarning: \n",
            "A value is trying to be set on a copy of a slice from a DataFrame.\n",
            "Try using .loc[row_indexer,col_indexer] = value instead\n",
            "\n",
            "See the caveats in the documentation: https://pandas.pydata.org/pandas-docs/stable/user_guide/indexing.html#returning-a-view-versus-a-copy\n",
            "  df_unique['Leadership- skills'] = df_unique['Leadership- skills'].str.strip().str.lower()\n"
          ]
        }
      ]
    },
    {
      "cell_type": "code",
      "source": [
        "#calculating group-wise means.\n",
        "group_means = df_unique.groupby('Leadership- skills')[['CGPA', 'Expected salary (Lac)']].mean()\n",
        "print(group_means)"
      ],
      "metadata": {
        "colab": {
          "base_uri": "https://localhost:8080/"
        },
        "id": "B_APi4LKT1Om",
        "outputId": "f1270483-e5f7-4b22-9c59-12a5781ea74d"
      },
      "execution_count": null,
      "outputs": [
        {
          "output_type": "stream",
          "name": "stdout",
          "text": [
            "                        CGPA  Expected salary (Lac)\n",
            "Leadership- skills                                 \n",
            "no                  8.035719              13.753613\n",
            "yes                 8.012784              13.754261\n"
          ]
        }
      ]
    },
    {
      "cell_type": "markdown",
      "source": [
        "What this suggests:\n",
        "\n",
        "Based on averages alone, students in leadership roles do not have notably higher CGPAs or expected salaries compared to others.\n",
        "The differences are very small, almost negligible."
      ],
      "metadata": {
        "id": "cychRg0Y1CsO"
      }
    },
    {
      "cell_type": "code",
      "source": [
        "#Run the t-tests to see if these tiny differences are statistically significant or just noise:\n",
        "from scipy.stats import ttest_ind\n",
        "\n",
        "leaders = df_unique[df_unique['Leadership- skills'] == 'yes']\n",
        "non_leaders = df_unique[df_unique['Leadership- skills'] == 'no']\n",
        "\n",
        "gpa_test = ttest_ind(leaders['CGPA'].dropna(), non_leaders['CGPA'].dropna())\n",
        "salary_test = ttest_ind(leaders['Expected salary (Lac)'].dropna(), non_leaders['Expected salary (Lac)'].dropna())\n",
        "\n",
        "print(f\"CGPA t-test p-value: {gpa_test.pvalue:.4f}\")\n",
        "print(f\"Expected Salary t-test p-value: {salary_test.pvalue:.4f}\")"
      ],
      "metadata": {
        "colab": {
          "base_uri": "https://localhost:8080/"
        },
        "id": "mH8P_1zKU1P6",
        "outputId": "26e928a1-189c-4d85-f082-870f14a7c666"
      },
      "execution_count": null,
      "outputs": [
        {
          "output_type": "stream",
          "name": "stdout",
          "text": [
            "CGPA t-test p-value: 0.6175\n",
            "Expected Salary t-test p-value: 0.9982\n"
          ]
        }
      ]
    },
    {
      "cell_type": "markdown",
      "source": [
        "Since both p-values are much greater than 0.05, the differences in CGPA and expected salary between leaders and non-leaders are not statistically significant.\n"
      ],
      "metadata": {
        "id": "R4q8EXkT1p09"
      }
    },
    {
      "cell_type": "code",
      "source": [],
      "metadata": {
        "id": "62nKFXvtWLNc"
      },
      "execution_count": null,
      "outputs": []
    },
    {
      "cell_type": "markdown",
      "source": [
        "##Q13) Is there a correlation between leadership skills and expected salary among the students?"
      ],
      "metadata": {
        "id": "cBTMLiW016Jd"
      }
    },
    {
      "cell_type": "code",
      "source": [
        "#Convert Leadership to numeric (e.g., Yes = 1, No = 0)\n",
        "df_unique['Leadership_numeric'] = df_unique['Leadership- skills'].map({'yes': 1, 'no': 0})\n",
        "\n",
        "#Computing correlation\n",
        "correlation = df_unique[['Leadership_numeric', 'Expected salary (Lac)']].corr()\n",
        "print(correlation)\n",
        "print('\\n')"
      ],
      "metadata": {
        "colab": {
          "base_uri": "https://localhost:8080/"
        },
        "id": "fSL908g5WMlT",
        "outputId": "220c882f-4ab4-40bb-8bd7-50851de31cb6"
      },
      "execution_count": 43,
      "outputs": [
        {
          "output_type": "stream",
          "name": "stdout",
          "text": [
            "                       Leadership_numeric  Expected salary (Lac)\n",
            "Leadership_numeric               1.000000               0.000048\n",
            "Expected salary (Lac)            0.000048               1.000000\n",
            "\n",
            "\n"
          ]
        },
        {
          "output_type": "stream",
          "name": "stderr",
          "text": [
            "<ipython-input-43-621498731>:2: SettingWithCopyWarning: \n",
            "A value is trying to be set on a copy of a slice from a DataFrame.\n",
            "Try using .loc[row_indexer,col_indexer] = value instead\n",
            "\n",
            "See the caveats in the documentation: https://pandas.pydata.org/pandas-docs/stable/user_guide/indexing.html#returning-a-view-versus-a-copy\n",
            "  df_unique['Leadership_numeric'] = df_unique['Leadership- skills'].map({'yes': 1, 'no': 0})\n"
          ]
        }
      ]
    },
    {
      "cell_type": "markdown",
      "source": [
        "Correlation coefficient = 0.000048\n",
        "\n",
        "This is almost exactly zero, meaning:\n",
        "There is no correlation between leadership skills and expected salary of students in your dataset."
      ],
      "metadata": {
        "id": "iiToTiuu2KeT"
      }
    },
    {
      "cell_type": "code",
      "source": [],
      "metadata": {
        "id": "bEm3rBcX_sPk"
      },
      "execution_count": null,
      "outputs": []
    },
    {
      "cell_type": "markdown",
      "source": [
        "##Q14) How many students are expected to graduate by the end of 2024?"
      ],
      "metadata": {
        "id": "Trribspe3VqF"
      }
    },
    {
      "cell_type": "code",
      "source": [
        "# Filter for year 2024\n",
        "grad_2024_count = df_unique[df_unique['Year of Graduation'] == 2024].shape[0]\n",
        "print(f\"Number of students graduating at the end of 2024: {grad_2024_count}\")"
      ],
      "metadata": {
        "colab": {
          "base_uri": "https://localhost:8080/"
        },
        "id": "sIQ-O-rgHw-3",
        "outputId": "9456aaee-e86e-421f-e5f0-28454531a2cb"
      },
      "execution_count": null,
      "outputs": [
        {
          "output_type": "stream",
          "name": "stdout",
          "text": [
            "Number of students graduating at the end of 2024: 679\n"
          ]
        }
      ]
    },
    {
      "cell_type": "code",
      "source": [],
      "metadata": {
        "id": "2PNdPVLB5gre"
      },
      "execution_count": null,
      "outputs": []
    },
    {
      "cell_type": "markdown",
      "source": [
        "##Q16) Find total number of students who attended the events related to Data Science (From all Data Science related Courses)"
      ],
      "metadata": {
        "id": "ALjaffwh9hKE"
      }
    },
    {
      "cell_type": "markdown",
      "source": [
        "Have used the previous classification of events into different field (from Q11 since there are no column named courses or anything related)\n",
        "\n",
        "Data Science\n",
        "- Hello ML and DL\n",
        "- Data Visualization using Power BI"
      ],
      "metadata": {
        "id": "YHWz4X8b9P-s"
      }
    },
    {
      "cell_type": "code",
      "source": [
        "# Map events to field\n",
        "df_unique['Field of Study'] = df_unique['Events'].map(event_to_field)\n",
        "\n",
        "# Filter only Data Science events\n",
        "ds_students = df_unique[df_unique['Field of Study'] == 'Data Science']\n",
        "\n",
        "# Print total count\n",
        "print(\"Total students in Data Science events:\", len(ds_students))\n",
        "print('\\n')"
      ],
      "metadata": {
        "colab": {
          "base_uri": "https://localhost:8080/"
        },
        "id": "_xGTq5po7DRk",
        "outputId": "5c5c4e24-e447-4824-e054-1ac88cef44cd"
      },
      "execution_count": 15,
      "outputs": [
        {
          "output_type": "stream",
          "name": "stdout",
          "text": [
            "Total students in Data Science events: 458\n",
            "\n",
            "\n"
          ]
        },
        {
          "output_type": "stream",
          "name": "stderr",
          "text": [
            "<ipython-input-15-64067063>:2: SettingWithCopyWarning: \n",
            "A value is trying to be set on a copy of a slice from a DataFrame.\n",
            "Try using .loc[row_indexer,col_indexer] = value instead\n",
            "\n",
            "See the caveats in the documentation: https://pandas.pydata.org/pandas-docs/stable/user_guide/indexing.html#returning-a-view-versus-a-copy\n",
            "  df_unique['Field of Study'] = df_unique['Events'].map(event_to_field)\n"
          ]
        }
      ]
    },
    {
      "cell_type": "code",
      "source": [],
      "metadata": {
        "id": "ncPbfHlLajCM"
      },
      "execution_count": null,
      "outputs": []
    },
    {
      "cell_type": "markdown",
      "source": [
        "##Q17) Those who have high CGPA and & more experience in language, do they have high expectation for salary(Avg)?"
      ],
      "metadata": {
        "id": "i8Pg25Zd-WnN"
      }
    },
    {
      "cell_type": "code",
      "source": [
        "# Calculate thresholds using mean\n",
        "cgpa_threshold = df_unique['CGPA'].mean()\n",
        "exp_threshold = df_unique['Experience with python (Months)'].mean()\n",
        "\n",
        "print(f\"CGPA threshold (mean): {cgpa_threshold:.2f}\")\n",
        "print(f\"Experience threshold (mean): {exp_threshold:.2f}\")"
      ],
      "metadata": {
        "colab": {
          "base_uri": "https://localhost:8080/"
        },
        "id": "3JUEPtvAaivx",
        "outputId": "587a11d6-a135-4863-d61c-d47761cc544d"
      },
      "execution_count": 20,
      "outputs": [
        {
          "output_type": "stream",
          "name": "stdout",
          "text": [
            "CGPA threshold (mean): 8.03\n",
            "Experience threshold (mean): 5.15\n"
          ]
        }
      ]
    },
    {
      "cell_type": "code",
      "source": [
        "# Filter based on data-driven thresholds\n",
        "high_perf = df_unique[\n",
        "    (df_unique['CGPA'] >= cgpa_threshold) &\n",
        "    (df_unique['Experience with python (Months)'] >= exp_threshold)\n",
        "]\n",
        "low_perf = df_unique[~df_unique.index.isin(high_perf.index)]"
      ],
      "metadata": {
        "id": "ZW8mouo3aumg"
      },
      "execution_count": 21,
      "outputs": []
    },
    {
      "cell_type": "code",
      "source": [
        "# Average expected salary\n",
        "avg_high = high_perf['Expected salary (Lac)'].mean()\n",
        "avg_rest = low_perf['Expected salary (Lac)'].mean()\n",
        "##This gives us the typical salary expectation for \"high-performing\" students and the rest of the students.\n",
        "\n",
        "print(f\"Avg expected salary (with high CGPA & experience): {avg_high:.2f} Lakh\")\n",
        "print(f\"Avg expected salary (others): {avg_rest:.2f} Lakh\")"
      ],
      "metadata": {
        "colab": {
          "base_uri": "https://localhost:8080/"
        },
        "id": "bxOafrGxa1O1",
        "outputId": "10d3be1c-f3b6-44a9-cbe3-2fa3fa741ed9"
      },
      "execution_count": 22,
      "outputs": [
        {
          "output_type": "stream",
          "name": "stdout",
          "text": [
            "Avg expected salary (with high CGPA & experience): 16.47 Lakh\n",
            "Avg expected salary (others): 13.20 Lakh\n"
          ]
        }
      ]
    },
    {
      "cell_type": "markdown",
      "source": [
        "So the answer is yes — students who have high CGPA and more experience in Python tend to have a higher average expected salary."
      ],
      "metadata": {
        "id": "KCC17PTJ-8a5"
      }
    },
    {
      "cell_type": "code",
      "source": [],
      "metadata": {
        "id": "1mUFVeSUa07G"
      },
      "execution_count": null,
      "outputs": []
    },
    {
      "cell_type": "markdown",
      "source": [
        "##Q18) How many students know about the event from their colleges? Which of these top 5 colleges?"
      ],
      "metadata": {
        "id": "aTn_kys7DcBR"
      }
    },
    {
      "cell_type": "code",
      "source": [
        "# Filter students who mentioned 'college' in either column\n",
        "college_promo = df_unique[\n",
        "    df_unique['How did you come to know about this event?'].str.contains('college', case=False, na=False) |\n",
        "    df_unique['Specify in \"Others\" (how did you come to know about this event)'].str.contains('college', case=False, na=False)\n",
        "]\n",
        "\n",
        "print(f\"Number of students who heard from their college: {len(college_promo)}\")"
      ],
      "metadata": {
        "colab": {
          "base_uri": "https://localhost:8080/"
        },
        "id": "tGOwjfJ0XL5p",
        "outputId": "d7c92cc3-7d30-48ad-a966-dd5777f656ad"
      },
      "execution_count": 23,
      "outputs": [
        {
          "output_type": "stream",
          "name": "stdout",
          "text": [
            "Number of students who heard from their college: 113\n"
          ]
        }
      ]
    },
    {
      "cell_type": "code",
      "source": [
        "print(college_promo['College Name'].value_counts().head(5))"
      ],
      "metadata": {
        "colab": {
          "base_uri": "https://localhost:8080/"
        },
        "id": "FhjFfXMlYM-A",
        "outputId": "75dcba68-afea-43c3-ca27-7b56fa72f604"
      },
      "execution_count": 44,
      "outputs": [
        {
          "output_type": "stream",
          "name": "stdout",
          "text": [
            "College Name\n",
            "GOVERNMENT POLYTECHNIC GANDHINAGAR                       6\n",
            "Wilson college                                           6\n",
            "ld college of engineering, ahmedabad, gujarat            6\n",
            "wilson college                                           5\n",
            "kle society's college of bca, rls institute, belagavi    5\n",
            "Name: count, dtype: int64\n"
          ]
        }
      ]
    },
    {
      "cell_type": "code",
      "source": [],
      "metadata": {
        "id": "EtDNHxHqZAfA"
      },
      "execution_count": null,
      "outputs": []
    }
  ]
}